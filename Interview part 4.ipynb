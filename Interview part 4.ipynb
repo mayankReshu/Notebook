{
 "cells": [
  {
   "cell_type": "code",
   "execution_count": 3,
   "metadata": {},
   "outputs": [
    {
     "data": {
      "text/plain": [
       "[4, 7, 12, 15, 17, 23, 34, 65]"
      ]
     },
     "execution_count": 3,
     "metadata": {},
     "output_type": "execute_result"
    }
   ],
   "source": [
    "# sort a list without using sort function\n",
    "old_list = [23,34,15,7,4,65,17,12]\n",
    "new_list = []\n",
    "\n",
    "while old_list:\n",
    "    min = old_list[0]\n",
    "    for i in old_list:\n",
    "        if i < min:\n",
    "            min = i\n",
    "    new_list.append(min)\n",
    "    old_list.remove(min)\n",
    "           \n",
    "new_list"
   ]
  },
  {
   "cell_type": "code",
   "execution_count": 1,
   "metadata": {},
   "outputs": [
    {
     "name": "stdout",
     "output_type": "stream",
     "text": [
      "{1}\n",
      "{1, 4}\n",
      "{1, 4, 6}\n",
      "{0, 1, 4, 6}\n",
      "{0, 1, 2, 4, 6}\n",
      "{0, 1, 2, 4, 6, 7}\n",
      "{0, 1, 2, 4, 6, 7, 8}\n",
      "{0, 1, 2, 3, 4, 6, 7, 8}\n",
      "{0, 1, 2, 3, 4, 5, 6, 7, 8}\n"
     ]
    },
    {
     "data": {
      "text/plain": [
       "[(4, 1), (3, 2), (5, 0)]"
      ]
     },
     "execution_count": 1,
     "metadata": {},
     "output_type": "execute_result"
    }
   ],
   "source": [
    "myList = [1,4,6,0,2,7,8,3,5]\n",
    "target = 5\n",
    "already_seen = set()\n",
    "pairs = []\n",
    "for x in myList:\n",
    "    if (target - x) in already_seen:\n",
    "        pairs.append((x, target - x))\n",
    "    already_seen.add(x)\n",
    "    print(already_seen)\n",
    "pairs"
   ]
  },
  {
   "cell_type": "code",
   "execution_count": 7,
   "metadata": {},
   "outputs": [
    {
     "name": "stdout",
     "output_type": "stream",
     "text": [
      "{8: 0}\n",
      "{8: 0, 7: 1}\n",
      "{8: 0, 7: 1, 2: 2}\n",
      "{8: 0, 7: 1, 2: 2, 5: 3}\n",
      "{8: 0, 7: 1, 2: 2, 5: 3, 3: 4}\n",
      "{8: 0, 7: 1, 2: 2, 5: 3, 3: 4, 1: 5}\n"
     ]
    },
    {
     "data": {
      "text/plain": [
       "[[2, 8], [3, 7]]"
      ]
     },
     "execution_count": 7,
     "metadata": {},
     "output_type": "execute_result"
    }
   ],
   "source": [
    "# with dictonary \n",
    "nums = [8, 7, 2, 5, 3, 1]\n",
    "target = 10\n",
    "\n",
    "d = {}\n",
    "out = []\n",
    "\n",
    "for i,e in enumerate(nums):\n",
    "    if (target-e) in d:\n",
    "        out.append([e,target-e])\n",
    "    d[e] = i\n",
    "    print(d)\n",
    "out\n",
    "    "
   ]
  },
  {
   "cell_type": "code",
   "execution_count": null,
   "metadata": {},
   "outputs": [],
   "source": [
    "#pandas filters(get the details of all row which coloumn has a specific value)\n",
    "df[df.risk.isin(['Small','Medium','High'])]"
   ]
  },
  {
   "cell_type": "code",
   "execution_count": 2,
   "metadata": {},
   "outputs": [
    {
     "data": {
      "text/plain": [
       "array([[0., 0., 0., 0., 0.],\n",
       "       [0., 0., 0., 0., 0.],\n",
       "       [0., 0., 0., 0., 0.],\n",
       "       [0., 0., 0., 0., 0.],\n",
       "       [0., 0., 0., 0., 0.]])"
      ]
     },
     "execution_count": 2,
     "metadata": {},
     "output_type": "execute_result"
    }
   ],
   "source": [
    "#How can you initialize a 5*5 numpy array with only zeroes\n",
    "\n",
    "import numpy as np\n",
    "n1=np.zeros((5,5))\n",
    "n1"
   ]
  },
  {
   "cell_type": "code",
   "execution_count": 2,
   "metadata": {},
   "outputs": [
    {
     "name": "stdout",
     "output_type": "stream",
     "text": [
      "35.0\n",
      "35.0\n",
      "17.07825127659933\n"
     ]
    }
   ],
   "source": [
    "#Find out the mean, median and standard deviation of this numpy array\n",
    "n1=np.array([10,20,30,40,50,60])\n",
    "print(np.mean(n1))\n",
    "print(np.median(n1))\n",
    "print(np.std(n1))"
   ]
  },
  {
   "cell_type": "code",
   "execution_count": 3,
   "metadata": {},
   "outputs": [
    {
     "name": "stdout",
     "output_type": "stream",
     "text": [
      "[100 200 300 400]\n"
     ]
    }
   ],
   "source": [
    "# create 1d array\n",
    "# creating the list\n",
    "list = [100, 200, 300, 400]\n",
    "  \n",
    "# creating 1-d array\n",
    "n = np.array(list)\n",
    "print(n)"
   ]
  },
  {
   "cell_type": "code",
   "execution_count": 4,
   "metadata": {},
   "outputs": [
    {
     "data": {
      "text/plain": [
       "array([[1, 2, 3],\n",
       "       [4, 5, 6]])"
      ]
     },
     "execution_count": 4,
     "metadata": {},
     "output_type": "execute_result"
    }
   ],
   "source": [
    "#create 2d array\n",
    "a = [[1, 2, 3], [4, 5, 6]]\n",
    "nd_a = np.array(a)\n",
    "nd_a"
   ]
  },
  {
   "cell_type": "code",
   "execution_count": 5,
   "metadata": {},
   "outputs": [
    {
     "data": {
      "text/plain": [
       "array([[[1, 2],\n",
       "        [3, 4]],\n",
       "\n",
       "       [[5, 6],\n",
       "        [7, 8]]])"
      ]
     },
     "execution_count": 5,
     "metadata": {},
     "output_type": "execute_result"
    }
   ],
   "source": [
    "a_3d_array = np.array([[[1, 2], [3, 4]], [[5, 6], [7, 8]]])\n",
    "a_3d_array"
   ]
  }
 ],
 "metadata": {
  "kernelspec": {
   "display_name": "Python 3",
   "language": "python",
   "name": "python3"
  },
  "language_info": {
   "codemirror_mode": {
    "name": "ipython",
    "version": 3
   },
   "file_extension": ".py",
   "mimetype": "text/x-python",
   "name": "python",
   "nbconvert_exporter": "python",
   "pygments_lexer": "ipython3",
   "version": "3.8.2"
  }
 },
 "nbformat": 4,
 "nbformat_minor": 4
}
