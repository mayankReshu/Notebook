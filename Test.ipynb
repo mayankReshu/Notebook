{
 "cells": [
  {
   "cell_type": "code",
   "execution_count": 4,
   "metadata": {},
   "outputs": [
    {
     "name": "stdout",
     "output_type": "stream",
     "text": [
      "None\n",
      "[3, 4, 5]\n"
     ]
    }
   ],
   "source": [
    "def increment_item(L, increment):\n",
    "    i = 0\n",
    "    while i < len(L):\n",
    "        L[i] = L[i] + increment\n",
    "        i = i +1\n",
    "        \n",
    "values = [1,2,3]\n",
    "print(increment_item(values,2))\n",
    "print(values)\n",
    "    "
   ]
  },
  {
   "cell_type": "code",
   "execution_count": 5,
   "metadata": {},
   "outputs": [
    {
     "name": "stdout",
     "output_type": "stream",
     "text": [
      "where are you\n",
      "change your thoughts\n"
     ]
    }
   ],
   "source": [
    "class world:\n",
    "    def __init__(wow):\n",
    "        wow.__newtime()\n",
    "        \n",
    "    def dow(wow):\n",
    "        print('change your thoughts')\n",
    "        \n",
    "    def __newtime(wow):\n",
    "        print('where are you')\n",
    "        \n",
    "x = world()\n",
    "x.dow()"
   ]
  }
 ],
 "metadata": {
  "kernelspec": {
   "display_name": "Python 3",
   "language": "python",
   "name": "python3"
  },
  "language_info": {
   "codemirror_mode": {
    "name": "ipython",
    "version": 3
   },
   "file_extension": ".py",
   "mimetype": "text/x-python",
   "name": "python",
   "nbconvert_exporter": "python",
   "pygments_lexer": "ipython3",
   "version": "3.8.2"
  }
 },
 "nbformat": 4,
 "nbformat_minor": 4
}
