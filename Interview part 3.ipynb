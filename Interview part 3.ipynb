{
 "cells": [
  {
   "cell_type": "code",
   "execution_count": 17,
   "metadata": {},
   "outputs": [
    {
     "name": "stdout",
     "output_type": "stream",
     "text": [
      "2\n"
     ]
    }
   ],
   "source": [
    "li = [3,2,8,4,7,9,0,4,5,6,7]\n",
    "ki = ['a','b','c','d']\n",
    "\n",
    "di = {}\n",
    "#res = dict(zip(test_keys, test_values))\n",
    "numkey = int(len(li)/len(ki))\n",
    "\n",
    "print(numkey)"
   ]
  },
  {
   "cell_type": "code",
   "execution_count": 2,
   "metadata": {},
   "outputs": [
    {
     "data": {
      "text/plain": [
       "{'a': 2, 'b': 3, 'c': 2}"
      ]
     },
     "execution_count": 2,
     "metadata": {},
     "output_type": "execute_result"
    }
   ],
   "source": [
    "#count number of elements in list and give the output\n",
    "li = ['a','a','b','b','b','c','c']\n",
    "\n",
    "num = {}\n",
    "for i in li:\n",
    "    num[i] = li.count(i)\n",
    "    \n",
    "\n",
    "\n",
    "num\n",
    "    "
   ]
  },
  {
   "cell_type": "code",
   "execution_count": 1,
   "metadata": {},
   "outputs": [
    {
     "data": {
      "text/plain": [
       "[('name', 'mayank'), ('age', 20), ('place', 'goa')]"
      ]
     },
     "execution_count": 1,
     "metadata": {},
     "output_type": "execute_result"
    }
   ],
   "source": [
    "mydict = {'name':'john','age':20,'place':'goa','name':'mayank'}\n",
    "list(mydict.items())"
   ]
  },
  {
   "cell_type": "code",
   "execution_count": 2,
   "metadata": {},
   "outputs": [
    {
     "data": {
      "text/plain": [
       "[4, 16, 64]"
      ]
     },
     "execution_count": 2,
     "metadata": {},
     "output_type": "execute_result"
    }
   ],
   "source": [
    "li = [2,4,8]\n",
    "[i**2 for i in li]"
   ]
  },
  {
   "cell_type": "code",
   "execution_count": 3,
   "metadata": {},
   "outputs": [
    {
     "data": {
      "text/plain": [
       "[3, 5, 7, 9]"
      ]
     },
     "execution_count": 3,
     "metadata": {},
     "output_type": "execute_result"
    }
   ],
   "source": [
    "he = [1,2,3,4,5,6,7,8,9,10]\n",
    "he[2::2]"
   ]
  },
  {
   "cell_type": "code",
   "execution_count": 4,
   "metadata": {},
   "outputs": [
    {
     "data": {
      "text/plain": [
       "[[], [], [], [], []]"
      ]
     },
     "execution_count": 4,
     "metadata": {},
     "output_type": "execute_result"
    }
   ],
   "source": [
    "[[]]*5"
   ]
  },
  {
   "cell_type": "code",
   "execution_count": 5,
   "metadata": {},
   "outputs": [
    {
     "data": {
      "text/plain": [
       "[1, 2, 3, 4, 5, [6, 7, 8]]"
      ]
     },
     "execution_count": 5,
     "metadata": {},
     "output_type": "execute_result"
    }
   ],
   "source": [
    "l1 = [1,2,3,4,5]\n",
    "l2 = l1.append([6,7,8])\n",
    "#l2 this will not work because we can not assign append or extend to a new variable\n",
    "l1"
   ]
  },
  {
   "cell_type": "code",
   "execution_count": 6,
   "metadata": {},
   "outputs": [
    {
     "data": {
      "text/plain": [
       "(1, 2, 3, 4, 5, 6)"
      ]
     },
     "execution_count": 6,
     "metadata": {},
     "output_type": "execute_result"
    }
   ],
   "source": [
    "t1 = (1,2,3)\n",
    "t2 = (4,5,6)\n",
    "t1 + t2"
   ]
  },
  {
   "cell_type": "code",
   "execution_count": 1,
   "metadata": {},
   "outputs": [
    {
     "name": "stdout",
     "output_type": "stream",
     "text": [
      "[30, 50, 70, 90]\n"
     ]
    }
   ],
   "source": [
    "#map() function\n",
    "#The map() function in Python is used for applying a function on all elements of a specified iterable. \n",
    "#It consists of two parameters, function and iterable\n",
    "def add(n):\n",
    "    return n + n \n",
    "num= (15, 25, 35, 45)\n",
    "res= map(add, num)\n",
    "print(list(res))"
   ]
  },
  {
   "cell_type": "code",
   "execution_count": null,
   "metadata": {},
   "outputs": [],
   "source": [
    "#find the highest paid player in each college in each team.\n",
    "df.groupby([\"Team\",\"College\"])[\"Salary\"].max()"
   ]
  },
  {
   "cell_type": "code",
   "execution_count": 2,
   "metadata": {},
   "outputs": [
    {
     "data": {
      "text/html": [
       "<div>\n",
       "<style scoped>\n",
       "    .dataframe tbody tr th:only-of-type {\n",
       "        vertical-align: middle;\n",
       "    }\n",
       "\n",
       "    .dataframe tbody tr th {\n",
       "        vertical-align: top;\n",
       "    }\n",
       "\n",
       "    .dataframe thead th {\n",
       "        text-align: right;\n",
       "    }\n",
       "</style>\n",
       "<table border=\"1\" class=\"dataframe\">\n",
       "  <thead>\n",
       "    <tr style=\"text-align: right;\">\n",
       "      <th></th>\n",
       "      <th>cars</th>\n",
       "      <th>bikes</th>\n",
       "    </tr>\n",
       "  </thead>\n",
       "  <tbody>\n",
       "    <tr>\n",
       "      <th>10</th>\n",
       "      <td>lamborghini</td>\n",
       "      <td>bajaj</td>\n",
       "    </tr>\n",
       "    <tr>\n",
       "      <th>20</th>\n",
       "      <td>masserati</td>\n",
       "      <td>tvs</td>\n",
       "    </tr>\n",
       "    <tr>\n",
       "      <th>30</th>\n",
       "      <td>ferrari</td>\n",
       "      <td>herohonda</td>\n",
       "    </tr>\n",
       "    <tr>\n",
       "      <th>40</th>\n",
       "      <td>hyundai</td>\n",
       "      <td>kawasaki</td>\n",
       "    </tr>\n",
       "    <tr>\n",
       "      <th>50</th>\n",
       "      <td>ford</td>\n",
       "      <td>bmw</td>\n",
       "    </tr>\n",
       "  </tbody>\n",
       "</table>\n",
       "</div>"
      ],
      "text/plain": [
       "           cars      bikes\n",
       "10  lamborghini      bajaj\n",
       "20    masserati        tvs\n",
       "30      ferrari  herohonda\n",
       "40      hyundai   kawasaki\n",
       "50         ford        bmw"
      ]
     },
     "execution_count": 2,
     "metadata": {},
     "output_type": "execute_result"
    }
   ],
   "source": [
    "# reindexing in pandas\n",
    "import pandas as pd\n",
    "bikes=[\"bajaj\",\"tvs\",\"herohonda\",\"kawasaki\",\"bmw\"]\n",
    "cars=[\"lamborghini\",\"masserati\",\"ferrari\",\"hyundai\",\"ford\"]\n",
    "d={\"cars\":cars,\"bikes\":bikes}\n",
    "df=pd.DataFrame(d)\n",
    "a=[10,20,30,40,50]\n",
    "df.index=a\n",
    "df"
   ]
  },
  {
   "cell_type": "code",
   "execution_count": 3,
   "metadata": {},
   "outputs": [
    {
     "name": "stdout",
     "output_type": "stream",
     "text": [
      "Series1:\n",
      "0     2\n",
      "1     4\n",
      "2     8\n",
      "3    20\n",
      "4    10\n",
      "5    47\n",
      "6    99\n",
      "dtype: int64\n",
      "\n",
      "Series2:\n",
      "0     1\n",
      "1     3\n",
      "2     6\n",
      "3     4\n",
      "4    10\n",
      "5    99\n",
      "6    50\n",
      "dtype: int64\n",
      "\n",
      "Items of ps1 not present in ps2:\n",
      "0     2\n",
      "2     8\n",
      "3    20\n",
      "5    47\n",
      "dtype: int64\n"
     ]
    }
   ],
   "source": [
    "#Get the elements of series that are not present in other series\n",
    "ps1 = pd.Series([2, 4, 8, 20, 10, 47, 99])\n",
    "ps2 = pd.Series([1, 3, 6, 4, 10, 99, 50])\n",
    "  \n",
    "print(\"Series1:\")\n",
    "print(ps1)\n",
    "print(\"\\nSeries2:\")\n",
    "print(ps2)\n",
    "  \n",
    "# Using Bitwise NOT operator along\n",
    "# with pandas.isin()\n",
    "print(\"\\nItems of ps1 not present in ps2:\")\n",
    "res = ps1[~ps1.isin(ps2)]\n",
    "print(res)"
   ]
  },
  {
   "cell_type": "code",
   "execution_count": null,
   "metadata": {},
   "outputs": [],
   "source": [
    "#How to drop rows of Pandas DataFrame whose value in a certain column is NaN\n",
    "df = df[df['EPS'].notna()]\n",
    "#or\n",
    "df = df[pd.notnull(df['EPS'])]"
   ]
  }
 ],
 "metadata": {
  "kernelspec": {
   "display_name": "Python 3",
   "language": "python",
   "name": "python3"
  },
  "language_info": {
   "codemirror_mode": {
    "name": "ipython",
    "version": 3
   },
   "file_extension": ".py",
   "mimetype": "text/x-python",
   "name": "python",
   "nbconvert_exporter": "python",
   "pygments_lexer": "ipython3",
   "version": "3.8.2"
  }
 },
 "nbformat": 4,
 "nbformat_minor": 4
}
