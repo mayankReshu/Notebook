{
 "cells": [
  {
   "cell_type": "code",
   "execution_count": 3,
   "metadata": {},
   "outputs": [],
   "source": [
    "#{elem: square of elem}\n",
    "\n",
    "l2 =  [i for i in range(0,101) if i%2==0]\n",
    "\n",
    "num = {}\n",
    "\n",
    "for j in l2:\n",
    "    num[j] = j**2\n",
    "\n",
    "    \n",
    "\n"
   ]
  },
  {
   "cell_type": "code",
   "execution_count": 10,
   "metadata": {},
   "outputs": [
    {
     "data": {
      "text/plain": [
       "'a3b4c4d3'"
      ]
     },
     "execution_count": 10,
     "metadata": {},
     "output_type": "execute_result"
    }
   ],
   "source": [
    "inp = \"aaabbbbccccddd\"\n",
    "\n",
    "#out = \"a3b4c4d3\"\n",
    "\n",
    "out = {}\n",
    "final = ''\n",
    "\n",
    "for k in inp:\n",
    "    if k not in out:\n",
    "        out[k] = inp.count(k)\n",
    "    \n",
    "    \n",
    "for key, value in out.items():\n",
    "    final+= key+str(value)\n",
    "\n",
    "final"
   ]
  },
  {
   "cell_type": "code",
   "execution_count": 15,
   "metadata": {},
   "outputs": [
    {
     "data": {
      "text/plain": [
       "True"
      ]
     },
     "execution_count": 15,
     "metadata": {},
     "output_type": "execute_result"
    }
   ],
   "source": [
    "\n",
    "#out = True\n",
    "#inp = \"((123(32(\"\n",
    "#out = False\n",
    "\n",
    "def match(np):\n",
    "    \n",
    "    \n",
    "    if np.count('(') == np.count(')'):\n",
    "        return True\n",
    "    else:\n",
    "        return False\n",
    "\n",
    "np = \"))123(32(\"    \n",
    "match(np)"
   ]
  },
  {
   "cell_type": "code",
   "execution_count": 19,
   "metadata": {},
   "outputs": [
    {
     "data": {
      "text/plain": [
       "[1, 2, 3, 4, 1, 0, 0, 0]"
      ]
     },
     "execution_count": 19,
     "metadata": {},
     "output_type": "execute_result"
    }
   ],
   "source": [
    "inp = [1, 2, 0, 3, 4, 0, 1, 0]\n",
    "\n",
    "#out = [1, 2, 3, 4, 1, 0, 0, 0]\n",
    "\n",
    "x = []\n",
    "\n",
    "for i in inp:\n",
    "    if i == 0:\n",
    "        x.append(i)\n",
    "        inp.remove(i)\n",
    "out = inp + x\n",
    "out"
   ]
  },
  {
   "cell_type": "code",
   "execution_count": 1,
   "metadata": {},
   "outputs": [
    {
     "name": "stdout",
     "output_type": "stream",
     "text": [
      "ABC\n",
      "ACB\n",
      "BAC\n",
      "BCA\n",
      "CAB\n",
      "CBA\n"
     ]
    }
   ],
   "source": [
    "def permutations(remaining, candidate=''):\n",
    " \n",
    "    if len(remaining) == 0:\n",
    "        print(candidate)\n",
    " \n",
    "    for i in range(len(remaining)):\n",
    " \n",
    "        newCandidate = candidate + remaining[i]\n",
    "        newRemaining = remaining[0:i] + remaining[i+1:]\n",
    " \n",
    "        permutations(newRemaining, newCandidate)\n",
    "\n",
    "    \n",
    "permutations('ABC')"
   ]
  }
 ],
 "metadata": {
  "kernelspec": {
   "display_name": "Python 3",
   "language": "python",
   "name": "python3"
  },
  "language_info": {
   "codemirror_mode": {
    "name": "ipython",
    "version": 3
   },
   "file_extension": ".py",
   "mimetype": "text/x-python",
   "name": "python",
   "nbconvert_exporter": "python",
   "pygments_lexer": "ipython3",
   "version": "3.8.2"
  }
 },
 "nbformat": 4,
 "nbformat_minor": 4
}
