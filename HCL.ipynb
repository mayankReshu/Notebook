{
 "cells": [
  {
   "cell_type": "code",
   "execution_count": 1,
   "metadata": {},
   "outputs": [
    {
     "data": {
      "text/plain": [
       "'HCL is company my'"
      ]
     },
     "execution_count": 1,
     "metadata": {},
     "output_type": "execute_result"
    }
   ],
   "source": [
    "a = 'my company is HCL'\n",
    "b = a.split(' ')\n",
    "c = b[::-1]\n",
    "d = ''\n",
    "for i in c:\n",
    "    d+= i+' '\n",
    "d.strip()"
   ]
  },
  {
   "cell_type": "code",
   "execution_count": 3,
   "metadata": {},
   "outputs": [
    {
     "data": {
      "text/plain": [
       "{1: 'A', 2: 'B', 3: 'C', 4: 'D'}"
      ]
     },
     "execution_count": 3,
     "metadata": {},
     "output_type": "execute_result"
    }
   ],
   "source": [
    "a = [1,2,3,4]\n",
    "b = ['A','B','C','D']\n",
    "num = {}\n",
    "for i in a:\n",
    "    for j in b:\n",
    "        num[i] = j\n",
    "        b.remove(j)\n",
    "        break\n",
    "num "
   ]
  },
  {
   "cell_type": "code",
   "execution_count": 9,
   "metadata": {},
   "outputs": [
    {
     "name": "stdout",
     "output_type": "stream",
     "text": [
      "Not Prime NUmber\n"
     ]
    }
   ],
   "source": [
    "# Prime number - which is divisible by 1 and by themself for example 5 is prime number 5X1 and 1X5 only two factors are there\n",
    "\n",
    "num = 10\n",
    "\n",
    "if num > 1 :\n",
    "    isPrime = True\n",
    "    for i in range(2,num):\n",
    "        if(num % i) == 0:\n",
    "            print('Not Prime NUmber')\n",
    "            isPrime = False\n",
    "            break\n",
    "    if isPrime:\n",
    "        print('Number is Prime')\n",
    "\n"
   ]
  },
  {
   "cell_type": "code",
   "execution_count": 6,
   "metadata": {},
   "outputs": [
    {
     "name": "stdout",
     "output_type": "stream",
     "text": [
      "[4]\n",
      "[4, 7]\n",
      "[4, 7, 15]\n",
      "[4, 7, 15, 17]\n",
      "[4, 7, 15, 17, 23]\n",
      "[4, 7, 15, 17, 23, 34]\n",
      "[4, 7, 15, 17, 23, 34, 65]\n",
      "[4, 7, 15, 17, 23, 34, 65]\n"
     ]
    }
   ],
   "source": [
    "my_list = [23,34,15,7,4,65,17]\n",
    "new_list = []\n",
    "\n",
    "while my_list:\n",
    "    min = my_list[0]  \n",
    "    for x in my_list: \n",
    "        if x < min:\n",
    "            min = x\n",
    "    new_list.append(min)\n",
    "    my_list.remove(min)\n",
    "    print(new_list)\n",
    "\n",
    "print(new_list)"
   ]
  }
 ],
 "metadata": {
  "kernelspec": {
   "display_name": "Python 3",
   "language": "python",
   "name": "python3"
  },
  "language_info": {
   "codemirror_mode": {
    "name": "ipython",
    "version": 3
   },
   "file_extension": ".py",
   "mimetype": "text/x-python",
   "name": "python",
   "nbconvert_exporter": "python",
   "pygments_lexer": "ipython3",
   "version": "3.8.2"
  }
 },
 "nbformat": 4,
 "nbformat_minor": 4
}
