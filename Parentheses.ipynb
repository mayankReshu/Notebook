{
 "cells": [
  {
   "cell_type": "code",
   "execution_count": null,
   "metadata": {},
   "outputs": [],
   "source": [
    "-----------------------------------\n",
    "Valid Parentheses\n",
    "-----------------------------------\n",
    "Given a string s containing just the characters '(', ')', '{', '}', '[' and ']', \n",
    "determine if the input string is valid.\n",
    "\n",
    "An input string is valid if:\n",
    "\n",
    "Open brackets must be closed by the same type of brackets.\n",
    "Open brackets must be closed in the correct order.\n",
    "\n",
    "Example 1:\n",
    "===============\n",
    "Input: s = \"()\"\n",
    "Output: true\n",
    "\n",
    "\n",
    "Example 2:\n",
    "===============\n",
    "Input: s = \"()[]{}\"\n",
    "Output: true\n",
    "\n",
    "\n",
    "Example 3:\n",
    "===============\n",
    "Input: s = \"(]\"\n",
    "Output: false\n",
    "\n",
    "\n",
    "Example 4:\n",
    "===============\n",
    "Input: s = \"([)]\"\n",
    "Output: false\n",
    "\n",
    "\n",
    "Example 5:\n",
    "===============\n",
    "Input: s = \"{[]}\"\n",
    "Output: true\n",
    "\n",
    "\n",
    "\n",
    "Constraints:\n",
    "===============\n",
    "1 <= s.length <= 104\n",
    "s consists of parentheses only '()[]{}'.\n"
   ]
  },
  {
   "cell_type": "code",
   "execution_count": 1,
   "metadata": {},
   "outputs": [
    {
     "data": {
      "text/plain": [
       "['(', ')', '[', ']', '{', '}']"
      ]
     },
     "execution_count": 1,
     "metadata": {},
     "output_type": "execute_result"
    }
   ],
   "source": [
    "val = '()[]{}'\n",
    "a = list(val)\n",
    "\n",
    "out = []\n",
    "\n",
    "for j,i in enumerate(a):\n",
    "    if i not in out:\n",
    "        out.append(i)\n",
    "        if i is in ['(','[','{']:\n",
    "            if i == '(':\n"
   ]
  },
  {
   "cell_type": "code",
   "execution_count": 4,
   "metadata": {},
   "outputs": [
    {
     "data": {
      "text/plain": [
       "False"
      ]
     },
     "execution_count": 4,
     "metadata": {},
     "output_type": "execute_result"
    }
   ],
   "source": [
    "def isValid(s: str) -> bool:\n",
    "    # Stack for left symbols\n",
    "    leftSymbols = []\n",
    "    # Loop for each character of the string\n",
    "    for c in s:\n",
    "        # If left symbol is encountered\n",
    "        if c in ['(', '{', '[']:\n",
    "            leftSymbols.append(c)\n",
    "        # If right symbol is encountered\n",
    "        elif c == ')' and len(leftSymbols) != 0 and leftSymbols[-1] == '(':\n",
    "            leftSymbols.pop()\n",
    "        elif c == '}' and len(leftSymbols) != 0 and leftSymbols[-1] == '{':\n",
    "            leftSymbols.pop()\n",
    "        elif c == ']' and len(leftSymbols) != 0 and leftSymbols[-1] == '[':\n",
    "            leftSymbols.pop()\n",
    "        # If none of the valid symbols is encountered\n",
    "        else:\n",
    "            return False\n",
    "    return leftSymbols == []\n",
    "\n",
    "isValid('()[]}')"
   ]
  }
 ],
 "metadata": {
  "kernelspec": {
   "display_name": "Python 3",
   "language": "python",
   "name": "python3"
  },
  "language_info": {
   "codemirror_mode": {
    "name": "ipython",
    "version": 3
   },
   "file_extension": ".py",
   "mimetype": "text/x-python",
   "name": "python",
   "nbconvert_exporter": "python",
   "pygments_lexer": "ipython3",
   "version": "3.8.2"
  }
 },
 "nbformat": 4,
 "nbformat_minor": 4
}
