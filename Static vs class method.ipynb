{
 "cells": [
  {
   "cell_type": "code",
   "execution_count": 5,
   "metadata": {},
   "outputs": [
    {
     "name": "stdout",
     "output_type": "stream",
     "text": [
      "Hello world\n",
      "i am a class methos\n",
      "hello\n",
      "i am a class methos\n",
      "hello\n"
     ]
    }
   ],
   "source": [
    "#https://www.tutorialsteacher.com/python/staticmethod-decorator\n",
    "class DecoExample:\n",
    "    def __init__(self):\n",
    "        print('Hello world')\n",
    "        \n",
    "    @classmethod\n",
    "    def examplefunction(cls):\n",
    "        print('i am a class methos')\n",
    "        cls.some_other_function()\n",
    "        \n",
    "    @staticmethod\n",
    "    def some_other_function():\n",
    "        print('hello')\n",
    "        \n",
    "de = DecoExample() # calling on instance\n",
    "de.examplefunction()\n",
    "#calling on class******\n",
    "DecoExample.examplefunction()\n"
   ]
  }
 ],
 "metadata": {
  "kernelspec": {
   "display_name": "Python 3",
   "language": "python",
   "name": "python3"
  },
  "language_info": {
   "codemirror_mode": {
    "name": "ipython",
    "version": 3
   },
   "file_extension": ".py",
   "mimetype": "text/x-python",
   "name": "python",
   "nbconvert_exporter": "python",
   "pygments_lexer": "ipython3",
   "version": "3.8.2"
  }
 },
 "nbformat": 4,
 "nbformat_minor": 4
}
